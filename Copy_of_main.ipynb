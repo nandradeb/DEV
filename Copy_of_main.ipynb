{
  "nbformat": 4,
  "nbformat_minor": 0,
  "metadata": {
    "colab": {
      "provenance": [],
      "include_colab_link": true
    },
    "kernelspec": {
      "name": "python3",
      "display_name": "Python 3"
    },
    "language_info": {
      "name": "python"
    }
  },
  "cells": [
    {
      "cell_type": "markdown",
      "metadata": {
        "id": "view-in-github",
        "colab_type": "text"
      },
      "source": [
        "<a href=\"https://colab.research.google.com/github/nandradeb/DEV/blob/main/Copy_of_main.ipynb\" target=\"_parent\"><img src=\"https://colab.research.google.com/assets/colab-badge.svg\" alt=\"Open In Colab\"/></a>"
      ]
    },
    {
      "cell_type": "code",
      "execution_count": null,
      "metadata": {
        "id": "n-dwQNWZO1iO",
        "outputId": "3d09c0c2-e707-40af-eaa9-76db02951329",
        "colab": {
          "base_uri": "https://localhost:8080/"
        }
      },
      "outputs": [
        {
          "output_type": "stream",
          "name": "stdout",
          "text": [
            "Intro número uno: 7\n",
            "Intro numero dos: 8\n",
            "La suma es:  15.0\n"
          ]
        }
      ],
      "source": [
        "n1=float(input(\"Intro número uno: \"))\n",
        "n2=float(input(\"Intro numero dos: \"))\n",
        "suma=n1+n2\n",
        "\n",
        "print(\"La suma es: \",suma)"
      ]
    }
  ]
}